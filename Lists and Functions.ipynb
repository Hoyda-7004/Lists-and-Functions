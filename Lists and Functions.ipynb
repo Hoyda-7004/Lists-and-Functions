{
 "cells": [
  {
   "cell_type": "markdown",
   "id": "d3ec3269",
   "metadata": {},
   "source": [
    "7.4"
   ]
  },
  {
   "cell_type": "code",
   "execution_count": 5,
   "id": "7c717d73",
   "metadata": {},
   "outputs": [
    {
     "name": "stdout",
     "output_type": "stream",
     "text": [
      "['mozzarella', 'cinderella', 'salmonella']\n"
     ]
    }
   ],
   "source": [
    "# Create a list called things\n",
    "things = [\"mozzarella\", \"cinderella\", \"salmonella\"]\n",
    "\n",
    "# Print the result\n",
    "print(things)\n"
   ]
  },
  {
   "cell_type": "markdown",
   "id": "505b5ffc",
   "metadata": {},
   "source": [
    "7.5"
   ]
  },
  {
   "cell_type": "code",
   "execution_count": 6,
   "id": "e244ba26",
   "metadata": {},
   "outputs": [
    {
     "name": "stdout",
     "output_type": "stream",
     "text": [
      "['mozzarella', 'Cinderella', 'salmonella']\n"
     ]
    }
   ],
   "source": [
    "# Create a list called things\n",
    "things = [\"mozzarella\", \"cinderella\", \"salmonella\"]\n",
    "\n",
    "# Capitalize the element that refers to a person\n",
    "things[1] = things[1].capitalize()\n",
    "\n",
    "# Print the updated list\n",
    "print(things)\n"
   ]
  },
  {
   "cell_type": "markdown",
   "id": "c315263c",
   "metadata": {},
   "source": [
    "7.6"
   ]
  },
  {
   "cell_type": "code",
   "execution_count": 7,
   "id": "3c77eb0e",
   "metadata": {},
   "outputs": [
    {
     "name": "stdout",
     "output_type": "stream",
     "text": [
      "['MOZZARELLA', 'cinderella', 'salmonella']\n"
     ]
    }
   ],
   "source": [
    "# Create a list called things\n",
    "things = [\"mozzarella\", \"cinderella\", \"salmonella\"]\n",
    "\n",
    "# Make the cheesy element all uppercase\n",
    "things[0] = things[0].upper()\n",
    "\n",
    "# Print the updated list\n",
    "print(things)\n"
   ]
  },
  {
   "cell_type": "markdown",
   "id": "452e1ac9",
   "metadata": {},
   "source": [
    "7.7"
   ]
  },
  {
   "cell_type": "code",
   "execution_count": 8,
   "id": "84028177",
   "metadata": {},
   "outputs": [
    {
     "name": "stdout",
     "output_type": "stream",
     "text": [
      "['mozzarella', 'cinderella']\n"
     ]
    }
   ],
   "source": [
    "# Create a list called things\n",
    "things = [\"mozzarella\", \"cinderella\", \"salmonella\"]\n",
    "\n",
    "# Delete the disease element from the list\n",
    "things.remove(\"salmonella\")\n",
    "\n",
    "# Print the updated list\n",
    "print(things)\n"
   ]
  },
  {
   "cell_type": "markdown",
   "id": "9f7027a0",
   "metadata": {},
   "source": [
    "9.1"
   ]
  },
  {
   "cell_type": "code",
   "execution_count": 10,
   "id": "66ca83aa",
   "metadata": {},
   "outputs": [
    {
     "name": "stdout",
     "output_type": "stream",
     "text": [
      "['Harry', 'Ron', 'Hermione']\n"
     ]
    }
   ],
   "source": [
    "def good():\n",
    "    return ['Harry', 'Ron', 'Hermione']\n",
    "\n",
    "# Call the function and store the result in a variable\n",
    "result = good()\n",
    "\n",
    "# Print the result\n",
    "print(result)\n"
   ]
  },
  {
   "cell_type": "markdown",
   "id": "ccc8d1de",
   "metadata": {},
   "source": [
    "9.2"
   ]
  },
  {
   "cell_type": "code",
   "execution_count": 11,
   "id": "d284fc61",
   "metadata": {},
   "outputs": [
    {
     "name": "stdout",
     "output_type": "stream",
     "text": [
      "The third odd number is: 5\n"
     ]
    }
   ],
   "source": [
    "def get_odds():\n",
    "    for number in range(10):\n",
    "        if number % 2 != 0:\n",
    "            yield number\n",
    "\n",
    "# Use a for loop to find and print the third value returned\n",
    "for index, odd_number in enumerate(get_odds()):\n",
    "    if index == 2:\n",
    "        print(\"The third odd number is:\", odd_number)\n",
    "        break\n"
   ]
  }
 ],
 "metadata": {
  "kernelspec": {
   "display_name": "Python 3 (ipykernel)",
   "language": "python",
   "name": "python3"
  },
  "language_info": {
   "codemirror_mode": {
    "name": "ipython",
    "version": 3
   },
   "file_extension": ".py",
   "mimetype": "text/x-python",
   "name": "python",
   "nbconvert_exporter": "python",
   "pygments_lexer": "ipython3",
   "version": "3.11.5"
  }
 },
 "nbformat": 4,
 "nbformat_minor": 5
}
